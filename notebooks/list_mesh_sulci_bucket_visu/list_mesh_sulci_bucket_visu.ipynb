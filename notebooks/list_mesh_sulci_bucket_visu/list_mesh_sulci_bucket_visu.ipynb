{
 "cells": [
  {
   "cell_type": "code",
   "execution_count": 1,
   "metadata": {},
   "outputs": [
    {
     "name": "stderr",
     "output_type": "stream",
     "text": [
      "/usr/lib/python3/dist-packages/scipy/__init__.py:146: UserWarning: A NumPy version >=1.17.3 and <1.25.0 is required for this version of SciPy (detected version 1.26.4\n",
      "  warnings.warn(f\"A NumPy version >={np_minversion} and <{np_maxversion}\"\n",
      "existing QApplication: 0\n",
      "QStandardPaths: XDG_RUNTIME_DIR not set, defaulting to '/tmp/runtime-ad279118'\n"
     ]
    },
    {
     "name": "stdout",
     "output_type": "stream",
     "text": [
      "create qapp\n",
      "global modules: /casa/host/build/share/anatomist-5.2/python_plugins\n",
      "home   modules: /casa/home/.anatomist/python_plugins\n",
      "done\n",
      "Starting Anatomist.....\n",
      "config file : /casa/home/.anatomist/config/settings.cfg\n",
      "PyAnatomist Module present\n",
      "PythonLauncher::runModules()\n",
      "loading module simple_controls\n",
      "loading module save_resampled\n",
      "loading module selection\n",
      "loading module bsa_proba\n",
      "loading module modelGraphs\n",
      "loading module profilewindow\n",
      "loading module ana_image_math\n",
      "loading module paletteViewer\n",
      "loading module foldsplit\n",
      "loading module anacontrolmenu\n",
      "loading module gradientpalette\n",
      "loading module palettecontrols\n",
      "loading module meshsplit\n",
      "loading module volumepalettes\n",
      "loading module gltf_io\n",
      "loading module infowindow\n",
      "loading module histogram\n",
      "loading module statsplotwindow\n",
      "loading module valuesplotwindow\n",
      "all python modules loaded\n",
      "Anatomist started.\n"
     ]
    }
   ],
   "source": [
    "import anatomist.api as ana\n",
    "from soma.qt_gui.qtThread import QtThreadCall\n",
    "from soma.qt_gui.qt_backend import Qt\n",
    "\n",
    "a = ana.Anatomist()\n",
    "\n",
    "from soma import aims\n",
    "import pandas as pd\n",
    "import numpy as np\n",
    "import os"
   ]
  },
  {
   "cell_type": "markdown",
   "metadata": {},
   "source": [
    "#### To visualize specific 3D volumic sulci for specific subjects"
   ]
  },
  {
   "cell_type": "code",
   "execution_count": 2,
   "metadata": {},
   "outputs": [],
   "source": [
    "dataset =  'hcp'\n",
    "region = 'S.C.-sylv.' #\"S.C.-sylv.\" \"S.T.s.\"\n",
    "side = 'R' #\"L\""
   ]
  },
  {
   "cell_type": "code",
   "execution_count": 17,
   "metadata": {},
   "outputs": [
    {
     "name": "stdout",
     "output_type": "stream",
     "text": [
      "['sub-3672666', 'sub-2495997']\n"
     ]
    }
   ],
   "source": [
    "sample = [102816,\n",
    " 103010,\n",
    " 103111,\n",
    " 103212,\n",
    " 103414,\n",
    " 103515,\n",
    " 103818,\n",
    " 104012,\n",
    " 104416,\n",
    " 104820,\n",
    " 105014,\n",
    " 105115,\n",
    " 105216,\n",
    " 105620,\n",
    " 105923]"
   ]
  },
  {
   "cell_type": "code",
   "execution_count": 20,
   "metadata": {},
   "outputs": [
    {
     "name": "stdout",
     "output_type": "stream",
     "text": [
      "nifti transfo: 2\n",
      "/home/ad279118/tmp/sub-3672666/ses-2/anat/t1mri/default_acquisition/default_analysis/folds/3.1/spam_session_auto/Rsub-3672666_spam_session_auto.arg is not a correct path, or the .arg doesn't exist\n",
      "Automatic try with 'deepcnn_session_auto' instead of 'spam_session_auto'\n",
      "memory limit: 45798198476\n",
      "Reading FGraph version 3.3\n"
     ]
    },
    {
     "name": "stderr",
     "output_type": "stream",
     "text": [
      "Warning: wrong filename_base in graph, trying to fix it\n"
     ]
    },
    {
     "name": "stdout",
     "output_type": "stream",
     "text": [
      "bounding box found : 14, 26, 40\n",
      "                     86, 194, 150\n",
      "nifti transfo: 3\n",
      "nifti transfo: 2\n",
      "/home/ad279118/tmp/sub-2495997/ses-2/anat/t1mri/default_acquisition/default_analysis/folds/3.1/spam_session_auto/Rsub-2495997_spam_session_auto.arg is not a correct path, or the .arg doesn't exist\n",
      "Automatic try with 'deepcnn_session_auto' instead of 'spam_session_auto'\n",
      "memory limit: 45819648409\n",
      "Reading FGraph version 3.1\n"
     ]
    },
    {
     "name": "stderr",
     "output_type": "stream",
     "text": [
      "Warning: wrong filename_base in graph, trying to fix it\n"
     ]
    },
    {
     "name": "stdout",
     "output_type": "stream",
     "text": [
      "bounding box found : 14, 27, 42\n",
      "                     85, 196, 159\n",
      "nifti transfo: 3\n"
     ]
    }
   ],
   "source": [
    "volume=True\n",
    "nb_columns=2\n",
    "block = a.createWindowsBlock(nb_columns) # nb of columns\n",
    "dic_windows = {}\n",
    "\n",
    "referential1 = a.createReferential()\n",
    "\n",
    "mm_skeleton_path = f'/neurospin/dico/data/deep_folding/current/datasets/{dataset}/crops/2mm/{region}/mask/{side}crops'\n",
    "dic_windows['Sulci_color']=a.loadObject('/casa/host/build/share/brainvisa-share-5.2/nomenclature/hierarchy/sulcal_root_colors.hie')\n",
    "for i, subject_id in enumerate(sample):\n",
    "    volume_path = f\"{mm_skeleton_path}/{subject_id}_cropped_skeleton.nii.gz\"\n",
    "    \n",
    "    if os.path.isfile(volume_path):\n",
    "        vol = aims.read(volume_path)\n",
    "        \n",
    "        dic_windows[f'a_vol{nb_columns*i}'] = a.toAObject(vol)\n",
    "        #dic_windows[f'a_vol{i}'].setPalette(absoluteMode=True)\n",
    "        dic_windows[f'rvol{nb_columns*i}'] = a.fusionObjects(objects=[dic_windows[f'a_vol{nb_columns*i}']], method='VolumeRenderingFusionMethod')\n",
    "        dic_windows[f'rvol{nb_columns*i}'].releaseAppRef()\n",
    "        dic_windows[f'rvol{nb_columns*i}'].assignReferential(referential1)\n",
    "        dic_windows[f'wvr{nb_columns*i}'] = a.createWindow('3D', block=block) #geometry=[100+400*(i%3), 100+440*(i//3), 400, 400])\n",
    "        dic_windows[f'wvr{nb_columns*i}'].addObjects(dic_windows[f'rvol{nb_columns*i}'])\n",
    "    else:\n",
    "        print(f\"{volume_path} is not a correct path, or the .nii.gz doesn't exist\")\n",
    "\n",
    "    path_to_t1mri = f'/neurospin/dico/data/bv_databases/human/not_labeled/hcp/hcp/{subject}/t1mri/BL' # be careful HCP here\n",
    "    white_matter_path = f'{path_to_t1mri}/default_analysis/segmentation/mesh/{subject_id}_{side}white.gii'\n",
    "    sulci_path = f'{path_to_t1mri}/default_analysis/folds/3.1/{side}{subject_id}.arg'\n",
    "    spam_labelled_sulci_path = f'{path_to_t1mri}/default_analysis/folds/3.1/spam_session_auto/{side}{subject_id}_spam_session_auto.arg'\n",
    "    deep_labelled_sulci_path = f'{path_to_t1mri}/default_analysis/folds/3.1/deepcnn_session_auto/{side}{subject_id}_deepcnn_session_auto.arg'\n",
    "\n",
    "    if os.path.isfile(white_matter_path):\n",
    "        # To visualize the white matter for specific people\n",
    "        dic_windows[f'white_{subject_id}'] = a.loadObject(white_matter_path)\n",
    "        #dic_windows[f'white_{subject_id}'].loadReferentialFromHeader()\n",
    "        dic_windows[f'white_{subject_id}'].assignReferential(referential1)\n",
    "    else:\n",
    "        print(f\"{white_matter_path} is not a correct path, or the .white.gii doesn't exist\")\n",
    "\n",
    "    #if os.path.isfile(sulci_path):\n",
    "        # To visualize the sulci for specific people\n",
    "        #dic_windows[f'sulci_{subject_id}'] = a.loadObject(sulci_path)\n",
    "        #dic_windows[f'sulci_{subject_id}'].loadReferentialFromHeader()\n",
    "    #else:\n",
    "        #print(f\"{sulci_path} is not a correct path, or the .arg doesn't exist\")\n",
    "    \n",
    "    if os.path.isfile(spam_labelled_sulci_path):\n",
    "        # To visualize the annotated sulci for specific people\n",
    "        dic_windows[f'sulci_labelled_{subject_id}'] = a.loadObject(spam_labelled_sulci_path)\n",
    "        #dic_windows[f'sulci_labelled_{subject_id}'].loadReferentialFromHeader()\n",
    "        dic_windows[f'sulci_labelled_{subject_id}'].assignReferential(referential1)\n",
    "    else:\n",
    "        print(f\"{spam_labelled_sulci_path} is not a correct path, or the .arg doesn't exist\")\n",
    "        print(\"Automatic try with 'deepcnn_session_auto' instead of 'spam_session_auto'\")\n",
    "        if  os.path.isfile(deep_labelled_sulci_path):\n",
    "            # To visualize the annotated sulci for specific people\n",
    "            dic_windows[f'sulci_labelled_{subject_id}'] = a.loadObject(deep_labelled_sulci_path)\n",
    "            #dic_windows[f'sulci_labelled_{subject_id}'].loadReferentialFromHeader()\n",
    "            dic_windows[f'sulci_labelled_{subject_id}'].assignReferential(referential1)\n",
    "    \n",
    "    #dic_windows[f'wvr{nb_columns*i+1}'] = a.createWindow('3D', block=block)\n",
    "    #dic_windows[f'wvr{nb_columns*i+1}'].addObjects([dic_windows2[f'white_{subject_id}'], dic_windows[f'sulci_{subject_id}']])\n",
    "    dic_windows[f'wvr{nb_columns*i+1}'] = a.createWindow('3D', block=block)\n",
    "    dic_windows[f'wvr{nb_columns*i+1}'].addObjects([dic_windows[f'white_{subject_id}'], dic_windows[f'sulci_labelled_{subject_id}']])"
   ]
  },
  {
   "cell_type": "markdown",
   "metadata": {},
   "source": [
    "#### To visualize the BUCKETS for specific people "
   ]
  },
  {
   "cell_type": "code",
   "execution_count": 21,
   "metadata": {},
   "outputs": [
    {
     "name": "stdout",
     "output_type": "stream",
     "text": [
      "memory limit: 45595076198\n",
      "Reading FGraph version 3.1\n"
     ]
    },
    {
     "name": "stderr",
     "output_type": "stream",
     "text": [
      "Warning: wrong filename_base in graph, trying to fix it\n"
     ]
    },
    {
     "name": "stdout",
     "output_type": "stream",
     "text": [
      "bounding box found : 16, 34, 49\n",
      "                     88, 193, 156\n",
      "nifti transfo: 1\n",
      "nifti transfo: 1\n",
      "memory limit: 45615969075\n",
      "Reading FGraph version 3.1\n"
     ]
    },
    {
     "name": "stderr",
     "output_type": "stream",
     "text": [
      "Warning: wrong filename_base in graph, trying to fix it\n"
     ]
    },
    {
     "name": "stdout",
     "output_type": "stream",
     "text": [
      "bounding box found : 16, 36, 34\n",
      "                     87, 208, 152\n",
      "nifti transfo: 2\n",
      "memory limit: 45611702681\n",
      "Reading FGraph version 3.1\n"
     ]
    },
    {
     "name": "stderr",
     "output_type": "stream",
     "text": [
      "Warning: wrong filename_base in graph, trying to fix it\n"
     ]
    },
    {
     "name": "stdout",
     "output_type": "stream",
     "text": [
      "bounding box found : 16, 25, 35\n",
      "                     95, 195, 150\n",
      "nifti transfo: 1\n",
      "nifti transfo: 1\n",
      "memory limit: 45612046745\n",
      "Reading FGraph version 3.1\n"
     ]
    },
    {
     "name": "stderr",
     "output_type": "stream",
     "text": [
      "Warning: wrong filename_base in graph, trying to fix it\n"
     ]
    },
    {
     "name": "stdout",
     "output_type": "stream",
     "text": [
      "bounding box found : 20, 33, 47\n",
      "                     89, 204, 153\n",
      "nifti transfo: 2\n",
      "nifti transfo: 1\n",
      "memory limit: 45606014156\n",
      "Reading FGraph version 3.1\n"
     ]
    },
    {
     "name": "stderr",
     "output_type": "stream",
     "text": [
      "Warning: wrong filename_base in graph, trying to fix it\n"
     ]
    },
    {
     "name": "stdout",
     "output_type": "stream",
     "text": [
      "bounding box found : 16, 32, 51\n",
      "                     91, 189, 159\n",
      "nifti transfo: 2\n",
      "nifti transfo: 2\n",
      "memory limit: 45583636889\n",
      "Reading FGraph version 3.1\n"
     ]
    },
    {
     "name": "stderr",
     "output_type": "stream",
     "text": [
      "Warning: wrong filename_base in graph, trying to fix it\n"
     ]
    },
    {
     "name": "stdout",
     "output_type": "stream",
     "text": [
      "bounding box found : 17, 41, 60\n",
      "                     91, 202, 187\n",
      "nifti transfo: 3\n",
      "nifti transfo: 1\n",
      "memory limit: 45600243712\n",
      "Reading FGraph version 3.1\n"
     ]
    },
    {
     "name": "stderr",
     "output_type": "stream",
     "text": [
      "Warning: wrong filename_base in graph, trying to fix it\n"
     ]
    },
    {
     "name": "stdout",
     "output_type": "stream",
     "text": [
      "bounding box found : 19, 37, 39\n",
      "                     95, 217, 150\n",
      "nifti transfo: 2\n",
      "nifti transfo: 2\n",
      "memory limit: 45576975155\n",
      "Reading FGraph version 3.1\n"
     ]
    },
    {
     "name": "stderr",
     "output_type": "stream",
     "text": [
      "Warning: wrong filename_base in graph, trying to fix it\n"
     ]
    },
    {
     "name": "stdout",
     "output_type": "stream",
     "text": [
      "bounding box found : 14, 21, 38\n",
      "                     88, 176, 144\n",
      "nifti transfo: 3\n",
      "nifti transfo: 2\n",
      "memory limit: 45596170649\n",
      "Reading FGraph version 3.1\n"
     ]
    },
    {
     "name": "stderr",
     "output_type": "stream",
     "text": [
      "Warning: wrong filename_base in graph, trying to fix it\n"
     ]
    },
    {
     "name": "stdout",
     "output_type": "stream",
     "text": [
      "bounding box found : 15, 19, 42\n",
      "                     88, 176, 150\n",
      "nifti transfo: 3\n",
      "nifti transfo: 1\n",
      "memory limit: 45619894681\n",
      "Reading FGraph version 3.1\n"
     ]
    },
    {
     "name": "stderr",
     "output_type": "stream",
     "text": [
      "Warning: wrong filename_base in graph, trying to fix it\n"
     ]
    },
    {
     "name": "stdout",
     "output_type": "stream",
     "text": [
      "bounding box found : 25, 35, 55\n",
      "                     101, 202, 172\n",
      "nifti transfo: 2\n"
     ]
    },
    {
     "name": "stdout",
     "output_type": "stream",
     "text": [
      "nifti transfo: 1\n",
      "nifti transfo: 1\n",
      "nifti transfo: 2\n",
      "nifti transfo: 2\n",
      "nifti transfo: 1\n",
      "nifti transfo: 3\n",
      "nifti transfo: 2\n",
      "nifti transfo: 3\n",
      "nifti transfo: 1\n",
      "nifti transfo: 2\n",
      "nifti transfo: 2\n",
      "nifti transfo: 2\n",
      "nifti transfo: 1\n",
      "nifti transfo: 1\n",
      "nifti transfo: 2\n",
      "nifti transfo: 2\n",
      "nifti transfo: 1\n",
      "nifti transfo: 3\n",
      "no position could be read at 221, 143\n",
      "no position could be read at 197, 90\n",
      "no position could be read at 209, 55\n",
      "Position : -21.0162, -73.5132, -14.4223, 0\n",
      "Position : -44.6912, -50.1271, -25.3672, 0\n",
      "Position : -34.7306, 4.10713, -47.6484, 0\n",
      "no position could be read at 173, 87\n",
      "Position : 47.3809, 173.271, 52.9856, 0\n",
      "Position : 42.7566, 142.728, 52.256, 0\n",
      "no position could be read at 161, 136\n",
      "Position : 38.034, 156.439, 47.4465, 0\n",
      "Position : -61.719, 3.55056, -40.395, 0\n",
      "Position : -41.341, -33.8254, -24.6045, 0\n",
      "Position : -44.9775, 68.3375, -44.7286, 0\n",
      "Position : -59.4141, -20.2527, -45.5596, 0\n",
      "Position : -46.4447, 42.342, -77.61, 0\n",
      "no position could be read at 181, 95\n",
      "Position : 42.2152, 114.072, 86.2864, 0\n",
      "no position could be read at 179, 123\n",
      "Position : 42.8805, 123.441, 63.8377, 0\n",
      "Position : 43.672, 123.402, 69.5945, 0\n"
     ]
    }
   ],
   "source": [
    "bucket_path = f'/neurospin/dico/data/deep_folding/current/datasets/{dataset}/crops/2mm/{region}/mask/{side}buckets'\n",
    "\n",
    "bucket_files = []\n",
    "bck_path = f'{bucket_path}/{subject_id}_cropped_skeleton.bck'\n",
    "\n",
    "for subject_id in sample:\n",
    "    if os.path. isfile(bck_path):\n",
    "        bucket_files.append(bck_path)\n",
    "    else:\n",
    "        print(f\"{bck_path} is not a correct path, or the .bck doesn't exist\")\n",
    "\n",
    "for i, file in enumerate(bucket_files):\n",
    "    dic_windows[f'bck_{i}'] = a.loadObject(file)\n",
    "    dic_windows[f'w_{i}'] = a.createWindow('3D', block=block)#geometry=[100+400*(i%3), 100+440*(i//3), 400, 400])\n",
    "    dic_windows[f'w_{i}'].addObjects(dic_windows[f'bck_{i}'])"
   ]
  }
 ],
 "metadata": {
  "kernelspec": {
   "display_name": "venv",
   "language": "python",
   "name": "python3"
  },
  "language_info": {
   "codemirror_mode": {
    "name": "ipython",
    "version": 3
   },
   "file_extension": ".py",
   "mimetype": "text/x-python",
   "name": "python",
   "nbconvert_exporter": "python",
   "pygments_lexer": "ipython3",
   "version": "3.10.12"
  }
 },
 "nbformat": 4,
 "nbformat_minor": 2
}
