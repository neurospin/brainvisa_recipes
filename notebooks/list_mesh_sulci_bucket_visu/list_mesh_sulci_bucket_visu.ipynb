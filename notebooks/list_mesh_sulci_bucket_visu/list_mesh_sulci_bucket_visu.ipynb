{
 "cells": [
  {
   "cell_type": "code",
   "execution_count": 1,
   "metadata": {},
   "outputs": [
    {
     "name": "stderr",
     "output_type": "stream",
     "text": [
      "/usr/lib/python3/dist-packages/scipy/__init__.py:146: UserWarning: A NumPy version >=1.17.3 and <1.25.0 is required for this version of SciPy (detected version 1.26.4\n",
      "  warnings.warn(f\"A NumPy version >={np_minversion} and <{np_maxversion}\"\n"
     ]
    },
    {
     "name": "stdout",
     "output_type": "stream",
     "text": [
      "create qapp\n",
      "done\n",
      "Starting Anatomist.....\n",
      "config file : /casa/home/.anatomist/config/settings.cfg\n",
      "PyAnatomist Module present\n",
      "PythonLauncher::runModules()\n",
      "global modules: /casa/host/build/share/anatomist-5.2/python_plugins\n",
      "home   modules: /casa/home/.anatomist/python_plugins\n",
      "loading module simple_controls\n"
     ]
    },
    {
     "name": "stderr",
     "output_type": "stream",
     "text": [
      "existing QApplication: 0\n",
      "QStandardPaths: XDG_RUNTIME_DIR not set, defaulting to '/tmp/runtime-ad279118'\n"
     ]
    },
    {
     "name": "stdout",
     "output_type": "stream",
     "text": [
      "loading module save_resampled\n",
      "loading module selection\n",
      "loading module bsa_proba\n",
      "loading module modelGraphs\n",
      "loading module profilewindow\n",
      "loading module ana_image_math\n",
      "loading module paletteViewer\n",
      "loading module foldsplit\n",
      "loading module anacontrolmenu\n",
      "loading module gradientpalette\n",
      "loading module palettecontrols\n",
      "loading module meshsplit\n",
      "loading module volumepalettes\n",
      "loading module gltf_io\n",
      "loading module infowindow\n",
      "loading module histogram\n",
      "loading module measure\n",
      "loading module statsplotwindow\n",
      "loading module valuesplotwindow\n",
      "all python modules loaded\n",
      "Anatomist started.\n"
     ]
    }
   ],
   "source": [
    "import anatomist.api as ana\n",
    "from soma.qt_gui.qtThread import QtThreadCall\n",
    "from soma.qt_gui.qt_backend import Qt\n",
    "\n",
    "a = ana.Anatomist()\n",
    "\n",
    "from soma import aims\n",
    "import pandas as pd\n",
    "import numpy as np\n",
    "import os"
   ]
  },
  {
   "cell_type": "markdown",
   "metadata": {},
   "source": [
    "#### To visualize specific 3D volumic sulci for specific subjects"
   ]
  },
  {
   "cell_type": "code",
   "execution_count": 2,
   "metadata": {},
   "outputs": [],
   "source": [
    "dataset =  'hcp'\n",
    "region = 'S.C.-sylv.' #\"S.C.-sylv.\" \"S.T.s.\"\n",
    "side = 'R' #\"L\""
   ]
  },
  {
   "cell_type": "code",
   "execution_count": 3,
   "metadata": {},
   "outputs": [],
   "source": [
    "sample = [102816,\n",
    " 103010]"
   ]
  },
  {
   "cell_type": "code",
   "execution_count": 4,
   "metadata": {},
   "outputs": [
    {
     "name": "stdout",
     "output_type": "stream",
     "text": [
      "Multitexturing present\n",
      "function glActiveTexture found.\n",
      "function glClientActiveTexture found.\n",
      "function glBlendEquation found.\n",
      "function glTexImage3D found.\n",
      "function glMultiTexCoord3f found.\n",
      "function glBindFramebuffer found.\n",
      "function glBindRenderbuffer found.\n",
      "function glFramebufferTexture2D found.\n",
      "function glGenFramebuffers found.\n",
      "function glGenRenderbuffers found.\n",
      "function glFramebufferRenderbuffer found.\n",
      "function glRenderbufferStorage found.\n",
      "function glCheckFramebufferStatus found.\n",
      "function glDeleteRenderbuffers found.\n",
      "function glDeleteFramebuffers found.\n",
      "Number of texture units: 4\n",
      "function glUniform1f found.\n",
      "function glUniform1i found.\n",
      "function glUniform4fv found.\n",
      "function glGetUniformLocation found.\n",
      "function glMultTransposeMatrixf found.\n",
      "function glAttachShader found.\n",
      "function glDetachShader found.\n",
      "function glCompileShader found.\n",
      "function glCreateProgram found.\n",
      "function glCreateShader found.\n",
      "function glDeleteProgram found.\n",
      "function glDeleteShader found.\n",
      "function glGetProgramiv found.\n",
      "function glGetShaderiv found.\n",
      "function glLinkProgram found.\n",
      "function glShaderSource found.\n",
      "function glUseProgram found.\n",
      "GL_ARB_shadow present\n",
      "GL_SGIX_shadow present\n",
      "GL_SGIX_depth_texture extension present\n",
      "GL_ARB_depth_texture extension present\n",
      "GL_ARB_texture_cube_map extension present\n",
      "GL_EXT_texture_cube_map extension present\n",
      "Number of texture units: 4\n",
      "nifti transfo: 2\n",
      "memory limit: 46267826176\n",
      "Reading FGraph version 3.1\n",
      "bounding box found : 33, 28, 59\n",
      "                     135, 271, 221\n",
      "nifti transfo: 3\n",
      "nifti transfo: 2\n",
      "memory limit: 46278593740\n",
      "Reading FGraph version 3.1\n",
      "bounding box found : 33, 17, 49\n",
      "                     132, 279, 214\n",
      "nifti transfo: 3\n"
     ]
    },
    {
     "name": "stdout",
     "output_type": "stream",
     "text": [
      "Position : 42.0281, 61.0887, 110.176, 0\n",
      "no position could be read at 357, 277\n",
      "no position could be read at 319, 389\n",
      "no position could be read at 382, 416\n",
      "Position : 36.4796, 97.2007, 83.2995, 0\n"
     ]
    },
    {
     "name": "stderr",
     "output_type": "stream",
     "text": [
      "QLayout: Attempting to add QLayout \"\" to QWidget \"\", which already has a layout\n"
     ]
    },
    {
     "name": "stdout",
     "output_type": "stream",
     "text": [
      "Position : 29.0139, 118.615, 114.35, 0\n",
      "no position could be read at 27, 283\n",
      "Position : 85.118, 177.049, 91.9312, 0\n",
      "Position : 89.8196, 170.439, 104.416, 0\n"
     ]
    }
   ],
   "source": [
    "volume=True\n",
    "nb_columns=2\n",
    "block = a.createWindowsBlock(nb_columns) # nb of columns\n",
    "dic_windows = {}\n",
    "\n",
    "referential1 = a.createReferential()\n",
    "\n",
    "mm_skeleton_path = f'/neurospin/dico/data/deep_folding/current/datasets/{dataset}/crops/2mm/{region}/mask/{side}crops'\n",
    "# dic_windows['Sulci_color']=a.loadObject('/casa/host/build/share/brainvisa-share-5.2/nomenclature/hierarchy/sulcal_root_colors.hie')\n",
    "dic_windows['Sulci_color'] = os.path.join(aims.carto.Paths.shfjShared(), 'nomenclature',\n",
    "                                          'hierarchy', 'sulcal_root_colors.hie')\n",
    "\n",
    "for i, subject_id in enumerate(sample):\n",
    "    volume_path = f\"{mm_skeleton_path}/{subject_id}_cropped_skeleton.nii.gz\"\n",
    "    \n",
    "    if os.path.isfile(volume_path):\n",
    "        vol = aims.read(volume_path)\n",
    "        \n",
    "        dic_windows[f'a_vol{nb_columns*i}'] = a.toAObject(vol)\n",
    "        #dic_windows[f'a_vol{i}'].setPalette(absoluteMode=True)\n",
    "        dic_windows[f'rvol{nb_columns*i}'] = a.fusionObjects(objects=[dic_windows[f'a_vol{nb_columns*i}']], method='VolumeRenderingFusionMethod')\n",
    "        dic_windows[f'rvol{nb_columns*i}'].releaseAppRef()\n",
    "        dic_windows[f'rvol{nb_columns*i}'].assignReferential(referential1)\n",
    "        dic_windows[f'wvr{nb_columns*i}'] = a.createWindow('3D', block=block) #geometry=[100+400*(i%3), 100+440*(i//3), 400, 400])\n",
    "        dic_windows[f'wvr{nb_columns*i}'].addObjects(dic_windows[f'rvol{nb_columns*i}'])\n",
    "    else:\n",
    "        print(f\"{volume_path} is not a correct path, or the .nii.gz doesn't exist\")\n",
    "\n",
    "    path_to_t1mri = f'/neurospin/dico/data/bv_databases/human/not_labeled/hcp/hcp/{subject_id}/t1mri/BL' # be careful HCP here\n",
    "    white_matter_path = f'{path_to_t1mri}/default_analysis/segmentation/mesh/{subject_id}_{side}white.gii'\n",
    "    sulci_path = f'{path_to_t1mri}/default_analysis/folds/3.1/{side}{subject_id}.arg'\n",
    "    spam_labelled_sulci_path = f'{path_to_t1mri}/default_analysis/folds/3.1/spam_auto/{side}{subject_id}_spam_auto.arg'\n",
    "    deep_labelled_sulci_path = f'{path_to_t1mri}/default_analysis/folds/3.1/deepcnn_auto/{side}{subject_id}_deepcnn_auto.arg'\n",
    "\n",
    "    if os.path.isfile(white_matter_path):\n",
    "        # To visualize the white matter for specific people\n",
    "        dic_windows[f'white_{subject_id}'] = a.loadObject(white_matter_path)\n",
    "        #dic_windows[f'white_{subject_id}'].loadReferentialFromHeader()\n",
    "        dic_windows[f'white_{subject_id}'].assignReferential(referential1)\n",
    "    else:\n",
    "        print(f\"{white_matter_path} is not a correct path, or the .white.gii doesn't exist\")\n",
    "\n",
    "    #if os.path.isfile(sulci_path):\n",
    "        # To visualize the sulci for specific people\n",
    "        #dic_windows[f'sulci_{subject_id}'] = a.loadObject(sulci_path)\n",
    "        #dic_windows[f'sulci_{subject_id}'].loadReferentialFromHeader()\n",
    "    #else:\n",
    "        #print(f\"{sulci_path} is not a correct path, or the .arg doesn't exist\")\n",
    "    \n",
    "    if os.path.isfile(spam_labelled_sulci_path):\n",
    "        # To visualize the annotated sulci for specific people\n",
    "        dic_windows[f'sulci_labelled_{subject_id}'] = a.loadObject(spam_labelled_sulci_path)\n",
    "        #dic_windows[f'sulci_labelled_{subject_id}'].loadReferentialFromHeader()\n",
    "        dic_windows[f'sulci_labelled_{subject_id}'].assignReferential(referential1)\n",
    "    else:\n",
    "        print(f\"{spam_labelled_sulci_path} is not a correct path, or the .arg doesn't exist\")\n",
    "        print(\"Automatic try with 'deepcnn_session_auto' instead of 'spam_session_auto'\")\n",
    "        if  os.path.isfile(deep_labelled_sulci_path):\n",
    "            # To visualize the annotated sulci for specific people\n",
    "            dic_windows[f'sulci_labelled_{subject_id}'] = a.loadObject(deep_labelled_sulci_path)\n",
    "            #dic_windows[f'sulci_labelled_{subject_id}'].loadReferentialFromHeader()\n",
    "            dic_windows[f'sulci_labelled_{subject_id}'].assignReferential(referential1)\n",
    "    \n",
    "    #dic_windows[f'wvr{nb_columns*i+1}'] = a.createWindow('3D', block=block)\n",
    "    #dic_windows[f'wvr{nb_columns*i+1}'].addObjects([dic_windows2[f'white_{subject_id}'], dic_windows[f'sulci_{subject_id}']])\n",
    "    dic_windows[f'wvr{nb_columns*i+1}'] = a.createWindow('3D', block=block)\n",
    "    dic_windows[f'wvr{nb_columns*i+1}'].addObjects(dic_windows[f'white_{subject_id}'])\n",
    "    dic_windows[f'wvr{nb_columns*i+1}'].addObjects(dic_windows[f'sulci_labelled_{subject_id}'])"
   ]
  },
  {
   "cell_type": "code",
   "execution_count": null,
   "metadata": {},
   "outputs": [
    {
     "data": {
      "text/plain": [
       "{'Sulci_color': <anatomist.cpp.anatomist.AObject object at 0x70541a1ed750>,\n",
       " 'a_vol0': <anatomist.cpp.anatomist.SliceableObject object at 0x70541a168f70>,\n",
       " 'rvol0': <anatomist.cpp.anatomist.MObject object at 0x70541a1ed870>,\n",
       " 'wvr0': <anatomist.cpp.weak_shared_ptr_AWindow object at 0x70540f525090>,\n",
       " 'white_102816': <anatomist.cpp.anatomist.ASurface_3 object at 0x70541a169090>,\n",
       " 'sulci_labelled_102816': <anatomist.cpp.anatomist.AGraph object at 0x70540eb83370>,\n",
       " 'wvr1': <anatomist.cpp.weak_shared_ptr_AWindow object at 0x70540f524f70>,\n",
       " 'a_vol2': <anatomist.cpp.anatomist.SliceableObject object at 0x70541a1ed7e0>,\n",
       " 'rvol2': <anatomist.cpp.anatomist.MObject object at 0x70540ebaa170>,\n",
       " 'wvr2': <anatomist.cpp.weak_shared_ptr_AWindow object at 0x70540ebb1360>,\n",
       " 'white_103010': <anatomist.cpp.anatomist.ASurface_3 object at 0x70540ebb17e0>,\n",
       " 'sulci_labelled_103010': <anatomist.cpp.anatomist.AGraph object at 0x70540ebb1c60>,\n",
       " 'wvr3': <anatomist.cpp.weak_shared_ptr_AWindow object at 0x70540ebb15a0>}"
      ]
     },
     "execution_count": 5,
     "metadata": {},
     "output_type": "execute_result"
    }
   ],
   "source": [
    "dic_windows"
   ]
  }
 ],
 "metadata": {
  "kernelspec": {
   "display_name": "venv",
   "language": "python",
   "name": "python3"
  },
  "language_info": {
   "codemirror_mode": {
    "name": "ipython",
    "version": 3
   },
   "file_extension": ".py",
   "mimetype": "text/x-python",
   "name": "python",
   "nbconvert_exporter": "python",
   "pygments_lexer": "ipython3",
   "version": "3.10.12"
  }
 },
 "nbformat": 4,
 "nbformat_minor": 2
}
